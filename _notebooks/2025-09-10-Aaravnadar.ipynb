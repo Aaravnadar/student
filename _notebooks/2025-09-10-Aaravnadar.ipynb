{
 "cells": [
  {
   "cell_type": "markdown",
   "id": "b6cac5b7",
   "metadata": {},
   "source": [
    "Hello, my name is Aarav Nadar and I would like to educate you about my interest on how to make jokes running in the Jupyter Notebooks. In order to do this we went into the pages repo and found the file with the jokes. We then went to toggle developer tools and ran the jokes by clicking the play button to the left of the chunk of code."
   ]
  },
  {
   "cell_type": "code",
   "execution_count": null,
   "id": "38f29bdd",
   "metadata": {
    "vscode": {
     "languageId": "plaintext"
    }
   },
   "outputs": [],
   "source": [
    "# 📝 Running Jokes in Jupyter Notebooks\n",
    "\n",
    "Welcome to my notebook!  \n",
    "Yes, the data analysis will be serious...  \n",
    "But the jokes? Absolutely not.  \n",
    "\n",
    "---\n",
    "\n",
    "## Joke #1: Importing Libraries\n",
    "Why did the Python programmer go broke?  \n",
    "Because they kept using **import this**.\n",
    "\n",
    "---\n",
    "\n",
    "## Joke #2: Data Cleaning\n",
    "Cleaning data feels like:\n",
    "- 1% actual cleaning  \n",
    "- 99% yelling: *\"Why are there so many NaNs??\"*  \n",
    "\n",
    "---\n",
    "\n",
    "## Joke #3: Machine Learning\n",
    "Neural networks are like teenagers:  \n",
    "They need tons of training,  \n",
    "forget everything you tell them,  \n",
    "and still get the answers wrong half the time. 🤖  \n",
    "\n",
    "---\n",
    "\n",
    "## Joke #4: Visualization\n",
    "Matplotlib: *\"I heard you like legends.\"*  \n",
    "Me: *\"Yes, but not covering my entire plot!\"*  \n",
    "\n",
    "---\n",
    "\n",
    "## Joke #5: Closing\n",
    "Remember:  \n",
    "If your code runs on the first try...  \n",
    "**Check if you're still in the wrong kernel.**\n"
   ]
  }
 ],
 "metadata": {
  "language_info": {
   "name": "python"
  }
 },
 "nbformat": 4,
 "nbformat_minor": 5
}
